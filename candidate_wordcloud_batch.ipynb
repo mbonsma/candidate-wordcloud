{
 "cells": [
  {
   "cell_type": "markdown",
   "id": "b144d006-e638-4078-a1ef-45869b187da8",
   "metadata": {
    "tags": []
   },
   "source": [
    "# Political candidate wordcloud - batch version\n",
    "\n",
    "This notebook takes a csv file with a list of links to candidate websites, scrapes the text, then generates a wordcloud from the text.\n",
    "\n",
    "The file \"url_list.csv\" should have urls in the first column, a language code in the second column (either 'en', 'fr', or 'all'), and a filename for saving the image in the third column.\n",
    "\n",
    "You can upload the file using the file browser in the left panel."
   ]
  },
  {
   "cell_type": "code",
   "execution_count": 1,
   "id": "ff5194e2-c6ee-42c4-a838-d26dcae1756e",
   "metadata": {},
   "outputs": [],
   "source": [
    "# ENTER THE FILENAME WITH A LIST OF URLS\n",
    "# this expects the url in the 1st column, language in 2nd, and save name in 3rd\n",
    "filename = \"url_list.csv\""
   ]
  },
  {
   "cell_type": "code",
   "execution_count": 2,
   "id": "4d404828-5347-46af-822f-942da42e9e24",
   "metadata": {},
   "outputs": [],
   "source": [
    "# load packages\n",
    "from bs4 import BeautifulSoup\n",
    "from matplotlib import pyplot as plt\n",
    "from wordcloud import WordCloud, STOPWORDS\n",
    "import requests\n",
    "import string\n",
    "import pandas as pd"
   ]
  },
  {
   "cell_type": "code",
   "execution_count": 3,
   "id": "efe333ef-bf73-4aba-a863-dad2355eb902",
   "metadata": {},
   "outputs": [],
   "source": [
    "from get_words import get_words"
   ]
  },
  {
   "cell_type": "code",
   "execution_count": 4,
   "id": "5932d0c6-75c6-42d9-ad00-2caf8c3b8fd4",
   "metadata": {},
   "outputs": [],
   "source": [
    "data = pd.read_csv(filename)"
   ]
  },
  {
   "cell_type": "code",
   "execution_count": 5,
   "id": "c3e65b5b-f03b-44ee-93e7-9bca5abf2f80",
   "metadata": {},
   "outputs": [],
   "source": [
    "# set columns to expected names\n",
    "data.columns = ['url', 'language', 'save_name']\n",
    "data['language'] = data['language'].str.lower() # set all language fields to lowercase"
   ]
  },
  {
   "cell_type": "code",
   "execution_count": 6,
   "id": "6e80d6fe-3090-45f5-8be3-f34fd0a1e4d0",
   "metadata": {},
   "outputs": [],
   "source": [
    "# get stopwords\n",
    "# a list of french stopwords\n",
    "url = \"https://github.com/stopwords-iso/stopwords-fr/raw/master/stopwords-fr.txt\"\n",
    "stopwords_fr = set(requests.get(url).content.decode('utf-8').split('\\n'))\n",
    "stopwords_en = set(STOPWORDS)"
   ]
  },
  {
   "cell_type": "code",
   "execution_count": null,
   "id": "cc73a03c-d9b6-4cf0-a1f5-30b36b02aac1",
   "metadata": {},
   "outputs": [],
   "source": [
    "for group in data.groupby(['save_name', 'language']):\n",
    "    save_name = group[0][0]\n",
    "    language = group[0][1]\n",
    "    candidate = group[1]\n",
    "    print(save_name)\n",
    "\n",
    "    # iterate through multiple urls for the same candidate (if applicable)\n",
    "    all_words = \"\"\n",
    "    all_wordlist = []\n",
    "    full_wordlist = []\n",
    "    for i, row in candidate.iterrows():\n",
    "        words, wordlist, full_list = get_words(row['url'])\n",
    "        all_words += words\n",
    "        all_words += \" \"\n",
    "        all_wordlist += wordlist\n",
    "        full_wordlist += full_list\n",
    "\n",
    "    stopwords = get_stopwords(language, stopwords_en, stopwords_fr)\n",
    "        \n",
    "    wordcloud = WordCloud(width = 800, height = 800,\n",
    "                background_color ='white',\n",
    "                stopwords = stopwords,\n",
    "                min_font_size = 10).generate(all_words)\n",
    " \n",
    "    # plot the WordCloud image                      \n",
    "    plt.figure(figsize = (8, 8), facecolor = None)\n",
    "    plt.imshow(wordcloud)\n",
    "    plt.axis(\"off\")\n",
    "    plt.tight_layout(pad = 0)\n",
    "\n",
    "    plt.savefig(\"%s.png\" %save_name, dpi = 300)\n",
    "    plt.show()\n",
    "    plt.close()"
   ]
  }
 ],
 "metadata": {
  "kernelspec": {
   "display_name": "Python 3 (ipykernel)",
   "language": "python",
   "name": "python3"
  },
  "language_info": {
   "codemirror_mode": {
    "name": "ipython",
    "version": 3
   },
   "file_extension": ".py",
   "mimetype": "text/x-python",
   "name": "python",
   "nbconvert_exporter": "python",
   "pygments_lexer": "ipython3",
   "version": "3.7.10"
  }
 },
 "nbformat": 4,
 "nbformat_minor": 5
}
